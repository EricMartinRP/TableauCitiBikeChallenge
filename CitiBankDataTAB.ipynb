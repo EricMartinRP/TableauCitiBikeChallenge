{
 "cells": [
  {
   "cell_type": "code",
   "execution_count": 1,
   "metadata": {},
   "outputs": [],
   "source": [
    "#dependices\n",
    "import pandas as pd\n",
    "import numpy as np\n",
    "import matplotlib.pyplot as plt\n",
    "import requests"
   ]
  },
  {
   "cell_type": "code",
   "execution_count": 2,
   "metadata": {},
   "outputs": [],
   "source": [
    "#Files Names to be read from CSV\n",
    "file1 = ['202212-citibike-tripdata.csv', '202301-citibike-tripdata.csv', '202302-citibike-tripdata.csv', '202303-citibike-tripdata.csv', '202304-citibike-tripdata.csv', '202305-citibike-tripdata.csv',]"
   ]
  },
  {
   "cell_type": "code",
   "execution_count": 3,
   "metadata": {},
   "outputs": [
    {
     "name": "stderr",
     "output_type": "stream",
     "text": [
      "C:\\Users\\EMARTIN8169\\AppData\\Local\\Temp\\ipykernel_23760\\2559302014.py:6: DtypeWarning: Columns (5,7) have mixed types. Specify dtype option on import or set low_memory=False.\n",
      "  df = pd.read_csv(file)\n",
      "C:\\Users\\EMARTIN8169\\AppData\\Local\\Temp\\ipykernel_23760\\2559302014.py:6: DtypeWarning: Columns (5,7) have mixed types. Specify dtype option on import or set low_memory=False.\n",
      "  df = pd.read_csv(file)\n",
      "C:\\Users\\EMARTIN8169\\AppData\\Local\\Temp\\ipykernel_23760\\2559302014.py:6: DtypeWarning: Columns (5,7) have mixed types. Specify dtype option on import or set low_memory=False.\n",
      "  df = pd.read_csv(file)\n",
      "C:\\Users\\EMARTIN8169\\AppData\\Local\\Temp\\ipykernel_23760\\2559302014.py:6: DtypeWarning: Columns (7) have mixed types. Specify dtype option on import or set low_memory=False.\n",
      "  df = pd.read_csv(file)\n",
      "C:\\Users\\EMARTIN8169\\AppData\\Local\\Temp\\ipykernel_23760\\2559302014.py:6: DtypeWarning: Columns (5,7) have mixed types. Specify dtype option on import or set low_memory=False.\n",
      "  df = pd.read_csv(file)\n",
      "C:\\Users\\EMARTIN8169\\AppData\\Local\\Temp\\ipykernel_23760\\2559302014.py:6: DtypeWarning: Columns (5,7) have mixed types. Specify dtype option on import or set low_memory=False.\n",
      "  df = pd.read_csv(file)\n"
     ]
    },
    {
     "data": {
      "text/html": [
       "<div>\n",
       "<style scoped>\n",
       "    .dataframe tbody tr th:only-of-type {\n",
       "        vertical-align: middle;\n",
       "    }\n",
       "\n",
       "    .dataframe tbody tr th {\n",
       "        vertical-align: top;\n",
       "    }\n",
       "\n",
       "    .dataframe thead th {\n",
       "        text-align: right;\n",
       "    }\n",
       "</style>\n",
       "<table border=\"1\" class=\"dataframe\">\n",
       "  <thead>\n",
       "    <tr style=\"text-align: right;\">\n",
       "      <th></th>\n",
       "      <th>ride_id</th>\n",
       "      <th>rideable_type</th>\n",
       "      <th>started_at</th>\n",
       "      <th>ended_at</th>\n",
       "      <th>start_station_name</th>\n",
       "      <th>start_station_id</th>\n",
       "      <th>end_station_name</th>\n",
       "      <th>end_station_id</th>\n",
       "      <th>start_lat</th>\n",
       "      <th>start_lng</th>\n",
       "      <th>end_lat</th>\n",
       "      <th>end_lng</th>\n",
       "      <th>member_casual</th>\n",
       "    </tr>\n",
       "  </thead>\n",
       "  <tbody>\n",
       "    <tr>\n",
       "      <th>0</th>\n",
       "      <td>0EF496F342AD4E7E</td>\n",
       "      <td>classic_bike</td>\n",
       "      <td>2022-12-05 17:47:32</td>\n",
       "      <td>2022-12-05 18:13:10</td>\n",
       "      <td>DeKalb Ave &amp; Hudson Ave</td>\n",
       "      <td>4513.06</td>\n",
       "      <td>Perry St &amp; Bleecker St</td>\n",
       "      <td>5922.07</td>\n",
       "      <td>40.689909</td>\n",
       "      <td>-73.980552</td>\n",
       "      <td>40.735354</td>\n",
       "      <td>-74.004831</td>\n",
       "      <td>member</td>\n",
       "    </tr>\n",
       "    <tr>\n",
       "      <th>1</th>\n",
       "      <td>4B9482CBC3FAC46B</td>\n",
       "      <td>classic_bike</td>\n",
       "      <td>2022-12-08 19:08:05</td>\n",
       "      <td>2022-12-08 19:20:23</td>\n",
       "      <td>E 128 St &amp; Madison Ave</td>\n",
       "      <td>7735.23</td>\n",
       "      <td>E 142 St &amp; 3 Ave</td>\n",
       "      <td>7781.10</td>\n",
       "      <td>40.807518</td>\n",
       "      <td>-73.939027</td>\n",
       "      <td>40.812735</td>\n",
       "      <td>-73.923697</td>\n",
       "      <td>member</td>\n",
       "    </tr>\n",
       "    <tr>\n",
       "      <th>2</th>\n",
       "      <td>59F23FEB16138E43</td>\n",
       "      <td>classic_bike</td>\n",
       "      <td>2022-12-22 19:11:48</td>\n",
       "      <td>2022-12-22 19:21:46</td>\n",
       "      <td>E 128 St &amp; Madison Ave</td>\n",
       "      <td>7735.23</td>\n",
       "      <td>E 142 St &amp; 3 Ave</td>\n",
       "      <td>7781.10</td>\n",
       "      <td>40.807569</td>\n",
       "      <td>-73.939101</td>\n",
       "      <td>40.812735</td>\n",
       "      <td>-73.923697</td>\n",
       "      <td>member</td>\n",
       "    </tr>\n",
       "    <tr>\n",
       "      <th>3</th>\n",
       "      <td>974F8AE1F18859F4</td>\n",
       "      <td>classic_bike</td>\n",
       "      <td>2022-12-12 08:38:09</td>\n",
       "      <td>2022-12-12 08:43:43</td>\n",
       "      <td>Driggs Ave &amp; N Henry St</td>\n",
       "      <td>5542.04</td>\n",
       "      <td>Meserole Ave &amp; Manhattan Ave</td>\n",
       "      <td>5666.04</td>\n",
       "      <td>40.723208</td>\n",
       "      <td>-73.943045</td>\n",
       "      <td>40.727086</td>\n",
       "      <td>-73.952991</td>\n",
       "      <td>casual</td>\n",
       "    </tr>\n",
       "    <tr>\n",
       "      <th>4</th>\n",
       "      <td>4B04C5C25EC9D6ED</td>\n",
       "      <td>classic_bike</td>\n",
       "      <td>2022-12-13 12:29:54</td>\n",
       "      <td>2022-12-13 12:36:35</td>\n",
       "      <td>3 St &amp; 3 Ave</td>\n",
       "      <td>4028.03</td>\n",
       "      <td>Carroll St &amp; 6 Ave</td>\n",
       "      <td>4019.06</td>\n",
       "      <td>40.675070</td>\n",
       "      <td>-73.987752</td>\n",
       "      <td>40.674089</td>\n",
       "      <td>-73.978728</td>\n",
       "      <td>member</td>\n",
       "    </tr>\n",
       "  </tbody>\n",
       "</table>\n",
       "</div>"
      ],
      "text/plain": [
       "            ride_id rideable_type           started_at             ended_at  \\\n",
       "0  0EF496F342AD4E7E  classic_bike  2022-12-05 17:47:32  2022-12-05 18:13:10   \n",
       "1  4B9482CBC3FAC46B  classic_bike  2022-12-08 19:08:05  2022-12-08 19:20:23   \n",
       "2  59F23FEB16138E43  classic_bike  2022-12-22 19:11:48  2022-12-22 19:21:46   \n",
       "3  974F8AE1F18859F4  classic_bike  2022-12-12 08:38:09  2022-12-12 08:43:43   \n",
       "4  4B04C5C25EC9D6ED  classic_bike  2022-12-13 12:29:54  2022-12-13 12:36:35   \n",
       "\n",
       "        start_station_name start_station_id              end_station_name  \\\n",
       "0  DeKalb Ave & Hudson Ave          4513.06        Perry St & Bleecker St   \n",
       "1   E 128 St & Madison Ave          7735.23              E 142 St & 3 Ave   \n",
       "2   E 128 St & Madison Ave          7735.23              E 142 St & 3 Ave   \n",
       "3  Driggs Ave & N Henry St          5542.04  Meserole Ave & Manhattan Ave   \n",
       "4             3 St & 3 Ave          4028.03            Carroll St & 6 Ave   \n",
       "\n",
       "  end_station_id  start_lat  start_lng    end_lat    end_lng member_casual  \n",
       "0        5922.07  40.689909 -73.980552  40.735354 -74.004831        member  \n",
       "1        7781.10  40.807518 -73.939027  40.812735 -73.923697        member  \n",
       "2        7781.10  40.807569 -73.939101  40.812735 -73.923697        member  \n",
       "3        5666.04  40.723208 -73.943045  40.727086 -73.952991        casual  \n",
       "4        4019.06  40.675070 -73.987752  40.674089 -73.978728        member  "
      ]
     },
     "execution_count": 3,
     "metadata": {},
     "output_type": "execute_result"
    }
   ],
   "source": [
    "#create list to store dataframes\n",
    "df_list = []\n",
    "\n",
    "#loop through files and read into dataframe\n",
    "for file in file1:\n",
    "    df = pd.read_csv(file)\n",
    "    df_list.append(df)\n",
    "\n",
    "#concatenate dataframes\n",
    "df = pd.concat(df_list)\n",
    "\n",
    "#display dataframe\n",
    "df.head()"
   ]
  },
  {
   "cell_type": "code",
   "execution_count": 4,
   "metadata": {},
   "outputs": [
    {
     "data": {
      "text/plain": [
       "Index(['ride_id', 'rideable_type', 'started_at', 'ended_at',\n",
       "       'start_station_name', 'start_station_id', 'end_station_name',\n",
       "       'end_station_id', 'start_lat', 'start_lng', 'end_lat', 'end_lng',\n",
       "       'member_casual'],\n",
       "      dtype='object')"
      ]
     },
     "execution_count": 4,
     "metadata": {},
     "output_type": "execute_result"
    }
   ],
   "source": [
    "#list columns\n",
    "df.columns"
   ]
  },
  {
   "cell_type": "code",
   "execution_count": 5,
   "metadata": {},
   "outputs": [],
   "source": [
    "#export to CSV file\n",
    "df.to_csv('CitiBikeData.csv', index=False)"
   ]
  }
 ],
 "metadata": {
  "kernelspec": {
   "display_name": "base",
   "language": "python",
   "name": "python3"
  },
  "language_info": {
   "codemirror_mode": {
    "name": "ipython",
    "version": 3
   },
   "file_extension": ".py",
   "mimetype": "text/x-python",
   "name": "python",
   "nbconvert_exporter": "python",
   "pygments_lexer": "ipython3",
   "version": "3.10.9"
  },
  "orig_nbformat": 4
 },
 "nbformat": 4,
 "nbformat_minor": 2
}
